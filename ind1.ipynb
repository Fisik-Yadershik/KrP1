{
 "cells": [
  {
   "cell_type": "code",
   "execution_count": 3,
   "metadata": {},
   "outputs": [
    {
     "name": "stdout",
     "output_type": "stream",
     "text": [
      "4.242640687119285\n"
     ]
    }
   ],
   "source": [
    "#Условие задачи: В вертикальной трубке, заполненной воздухом, закреплен точечный заряд 5 мкКл. На каком расстоянии над ним будет находиться в положении равновесия шарик массой 1 г с зарядом 4 мкКл?\n",
    "#Дано: Q=5 мкКл, m=1 г, q=4 мкКл, R−?\n",
    "#Решение\n",
    "Q = 5*(10**-6)\n",
    "q = 4*(10**-6)\n",
    "k = 9*(10**9)\n",
    "m = 0.001\n",
    "g = 10\n",
    "R = (((k*Q*q)/(m*g))**0.5)\n",
    "print(R)"
   ]
  }
 ],
 "metadata": {
  "kernelspec": {
   "display_name": "Python 3",
   "language": "python",
   "name": "python3"
  },
  "language_info": {
   "codemirror_mode": {
    "name": "ipython",
    "version": 3
   },
   "file_extension": ".py",
   "mimetype": "text/x-python",
   "name": "python",
   "nbconvert_exporter": "python",
   "pygments_lexer": "ipython3",
   "version": "3.8.5"
  }
 },
 "nbformat": 4,
 "nbformat_minor": 4
}
